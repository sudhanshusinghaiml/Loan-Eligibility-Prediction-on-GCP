{
 "cells": [
  {
   "cell_type": "code",
   "execution_count": 1,
   "id": "413e0cfd",
   "metadata": {},
   "outputs": [],
   "source": [
    "import numpy as np\n",
    "import pandas as pd"
   ]
  },
  {
   "cell_type": "code",
   "execution_count": 2,
   "id": "efdac5ba",
   "metadata": {},
   "outputs": [],
   "source": [
    "# Get multiple outputs in the same cell\n",
    "from IPython.core.interactiveshell import InteractiveShell\n",
    "InteractiveShell.ast_node_interactivity = \"all\"\n",
    "\n",
    "# To supress future warnings\n",
    "import warnings\n",
    "warnings.filterwarnings('ignore')\n",
    "warnings.filterwarnings(action='ignore', category=DeprecationWarning)"
   ]
  },
  {
   "cell_type": "code",
   "execution_count": 3,
   "id": "29743436",
   "metadata": {},
   "outputs": [],
   "source": [
    "pd.set_option('display.max_rows', 500)\n",
    "pd.set_option('display.max_columns', 500)\n",
    "pd.set_option('display.width', 1000)\n",
    "pd.set_option('display.expand_frame_repr', False)\n",
    "pd.set_option('display.max_colwidth',2000)\n",
    "pd.options.display.float_format='{:.2f}'.format"
   ]
  },
  {
   "cell_type": "markdown",
   "id": "85bc8502",
   "metadata": {},
   "source": [
    "**Read the Cleaned data from Excel**"
   ]
  },
  {
   "cell_type": "code",
   "execution_count": 4,
   "id": "a2298fcb",
   "metadata": {},
   "outputs": [],
   "source": [
    "data = pd.read_csv('../output/CleanedData.csv')"
   ]
  },
  {
   "cell_type": "code",
   "execution_count": 5,
   "id": "75c136ee",
   "metadata": {},
   "outputs": [
    {
     "name": "stdout",
     "output_type": "stream",
     "text": [
      "<class 'pandas.core.frame.DataFrame'>\n",
      "RangeIndex: 88910 entries, 0 to 88909\n",
      "Data columns (total 19 columns):\n",
      " #   Column                        Non-Null Count  Dtype  \n",
      "---  ------                        --------------  -----  \n",
      " 0   Loan ID                       88910 non-null  object \n",
      " 1   Customer ID                   88910 non-null  object \n",
      " 2   Loan Status                   88910 non-null  object \n",
      " 3   Current Loan Amount           88910 non-null  float64\n",
      " 4   Term                          88910 non-null  object \n",
      " 5   Credit Score                  88910 non-null  float64\n",
      " 6   Years in current job          88910 non-null  int64  \n",
      " 7   Home Ownership                88910 non-null  object \n",
      " 8   Annual Income                 88910 non-null  float64\n",
      " 9   Purpose                       88910 non-null  object \n",
      " 10  Monthly Debt                  88910 non-null  float64\n",
      " 11  Years of Credit History       88910 non-null  float64\n",
      " 12  Months since last delinquent  88910 non-null  float64\n",
      " 13  Number of Open Accounts       88910 non-null  int64  \n",
      " 14  Number of Credit Problems     88910 non-null  int64  \n",
      " 15  Current Credit Balance        88910 non-null  float64\n",
      " 16  Maximum Open Credit           88910 non-null  float64\n",
      " 17  Bankruptcies                  88910 non-null  float64\n",
      " 18  Tax Liens                     88910 non-null  float64\n",
      "dtypes: float64(10), int64(3), object(6)\n",
      "memory usage: 12.9+ MB\n"
     ]
    }
   ],
   "source": [
    "data.info()"
   ]
  },
  {
   "cell_type": "markdown",
   "id": "0e03ea23",
   "metadata": {},
   "source": [
    "### Data Preprocessing"
   ]
  },
  {
   "cell_type": "markdown",
   "id": "b03dc2d0",
   "metadata": {},
   "source": [
    "#### **Dropping Loan ID and Customer ID Features**"
   ]
  },
  {
   "cell_type": "code",
   "execution_count": 6,
   "id": "503b50cd",
   "metadata": {},
   "outputs": [
    {
     "data": {
      "text/html": [
       "<div>\n",
       "<style scoped>\n",
       "    .dataframe tbody tr th:only-of-type {\n",
       "        vertical-align: middle;\n",
       "    }\n",
       "\n",
       "    .dataframe tbody tr th {\n",
       "        vertical-align: top;\n",
       "    }\n",
       "\n",
       "    .dataframe thead th {\n",
       "        text-align: right;\n",
       "    }\n",
       "</style>\n",
       "<table border=\"1\" class=\"dataframe\">\n",
       "  <thead>\n",
       "    <tr style=\"text-align: right;\">\n",
       "      <th></th>\n",
       "      <th>Loan Status</th>\n",
       "      <th>Current Loan Amount</th>\n",
       "      <th>Term</th>\n",
       "      <th>Credit Score</th>\n",
       "      <th>Years in current job</th>\n",
       "      <th>Home Ownership</th>\n",
       "      <th>Annual Income</th>\n",
       "      <th>Purpose</th>\n",
       "      <th>Monthly Debt</th>\n",
       "      <th>Years of Credit History</th>\n",
       "      <th>Months since last delinquent</th>\n",
       "      <th>Number of Open Accounts</th>\n",
       "      <th>Number of Credit Problems</th>\n",
       "      <th>Current Credit Balance</th>\n",
       "      <th>Maximum Open Credit</th>\n",
       "      <th>Bankruptcies</th>\n",
       "      <th>Tax Liens</th>\n",
       "    </tr>\n",
       "  </thead>\n",
       "  <tbody>\n",
       "    <tr>\n",
       "      <th>0</th>\n",
       "      <td>Loan Refused</td>\n",
       "      <td>12232.00</td>\n",
       "      <td>Short Term</td>\n",
       "      <td>997.50</td>\n",
       "      <td>1</td>\n",
       "      <td>Rent</td>\n",
       "      <td>46643.00</td>\n",
       "      <td>Debt Consolidation</td>\n",
       "      <td>777.39</td>\n",
       "      <td>18.00</td>\n",
       "      <td>10.00</td>\n",
       "      <td>12</td>\n",
       "      <td>0</td>\n",
       "      <td>6762.00</td>\n",
       "      <td>7946.00</td>\n",
       "      <td>0.00</td>\n",
       "      <td>0.00</td>\n",
       "    </tr>\n",
       "    <tr>\n",
       "      <th>1</th>\n",
       "      <td>Loan Refused</td>\n",
       "      <td>25014.00</td>\n",
       "      <td>Long Term</td>\n",
       "      <td>997.50</td>\n",
       "      <td>10</td>\n",
       "      <td>Home Mortgage</td>\n",
       "      <td>81099.00</td>\n",
       "      <td>Debt Consolidation</td>\n",
       "      <td>892.09</td>\n",
       "      <td>26.70</td>\n",
       "      <td>32.00</td>\n",
       "      <td>14</td>\n",
       "      <td>0</td>\n",
       "      <td>35706.00</td>\n",
       "      <td>77961.00</td>\n",
       "      <td>0.00</td>\n",
       "      <td>0.00</td>\n",
       "    </tr>\n",
       "    <tr>\n",
       "      <th>2</th>\n",
       "      <td>Loan Refused</td>\n",
       "      <td>16117.00</td>\n",
       "      <td>Short Term</td>\n",
       "      <td>997.50</td>\n",
       "      <td>9</td>\n",
       "      <td>Home Mortgage</td>\n",
       "      <td>60438.00</td>\n",
       "      <td>Home Improvements</td>\n",
       "      <td>1244.02</td>\n",
       "      <td>16.70</td>\n",
       "      <td>32.00</td>\n",
       "      <td>11</td>\n",
       "      <td>1</td>\n",
       "      <td>11275.00</td>\n",
       "      <td>14815.00</td>\n",
       "      <td>1.00</td>\n",
       "      <td>0.00</td>\n",
       "    </tr>\n",
       "    <tr>\n",
       "      <th>3</th>\n",
       "      <td>Loan Refused</td>\n",
       "      <td>11716.00</td>\n",
       "      <td>Short Term</td>\n",
       "      <td>997.50</td>\n",
       "      <td>3</td>\n",
       "      <td>Rent</td>\n",
       "      <td>34171.00</td>\n",
       "      <td>Debt Consolidation</td>\n",
       "      <td>990.94</td>\n",
       "      <td>10.00</td>\n",
       "      <td>32.00</td>\n",
       "      <td>21</td>\n",
       "      <td>0</td>\n",
       "      <td>7009.00</td>\n",
       "      <td>43533.00</td>\n",
       "      <td>0.00</td>\n",
       "      <td>0.00</td>\n",
       "    </tr>\n",
       "    <tr>\n",
       "      <th>4</th>\n",
       "      <td>Loan Refused</td>\n",
       "      <td>9789.00</td>\n",
       "      <td>Long Term</td>\n",
       "      <td>997.50</td>\n",
       "      <td>10</td>\n",
       "      <td>Home Mortgage</td>\n",
       "      <td>47003.00</td>\n",
       "      <td>Home Improvements</td>\n",
       "      <td>503.71</td>\n",
       "      <td>16.70</td>\n",
       "      <td>25.00</td>\n",
       "      <td>13</td>\n",
       "      <td>1</td>\n",
       "      <td>16913.00</td>\n",
       "      <td>19553.00</td>\n",
       "      <td>1.00</td>\n",
       "      <td>0.00</td>\n",
       "    </tr>\n",
       "  </tbody>\n",
       "</table>\n",
       "</div>"
      ],
      "text/plain": [
       "    Loan Status  Current Loan Amount        Term  Credit Score  Years in current job Home Ownership  Annual Income             Purpose  Monthly Debt  Years of Credit History  Months since last delinquent  Number of Open Accounts  Number of Credit Problems  Current Credit Balance  Maximum Open Credit  Bankruptcies  Tax Liens\n",
       "0  Loan Refused             12232.00  Short Term        997.50                     1           Rent       46643.00  Debt Consolidation        777.39                    18.00                         10.00                       12                          0                 6762.00              7946.00          0.00       0.00\n",
       "1  Loan Refused             25014.00   Long Term        997.50                    10  Home Mortgage       81099.00  Debt Consolidation        892.09                    26.70                         32.00                       14                          0                35706.00             77961.00          0.00       0.00\n",
       "2  Loan Refused             16117.00  Short Term        997.50                     9  Home Mortgage       60438.00   Home Improvements       1244.02                    16.70                         32.00                       11                          1                11275.00             14815.00          1.00       0.00\n",
       "3  Loan Refused             11716.00  Short Term        997.50                     3           Rent       34171.00  Debt Consolidation        990.94                    10.00                         32.00                       21                          0                 7009.00             43533.00          0.00       0.00\n",
       "4  Loan Refused              9789.00   Long Term        997.50                    10  Home Mortgage       47003.00   Home Improvements        503.71                    16.70                         25.00                       13                          1                16913.00             19553.00          1.00       0.00"
      ]
     },
     "execution_count": 6,
     "metadata": {},
     "output_type": "execute_result"
    }
   ],
   "source": [
    "data = data.iloc[:,2:]\n",
    "data.head()"
   ]
  },
  {
   "cell_type": "markdown",
   "id": "64e54e93",
   "metadata": {},
   "source": [
    "####  **Encoding Categorical Features**\n",
    "  - Loan Status\n",
    "  - Term\n",
    "  - Home Ownership\n",
    "  - Purpose"
   ]
  },
  {
   "cell_type": "code",
   "execution_count": 7,
   "id": "ff612cb9",
   "metadata": {},
   "outputs": [],
   "source": [
    "columns_to_be_encoded = ['Loan Status', 'Term', 'Home Ownership', 'Purpose']"
   ]
  },
  {
   "cell_type": "code",
   "execution_count": 8,
   "id": "5b1d980a",
   "metadata": {},
   "outputs": [
    {
     "name": "stdout",
     "output_type": "stream",
     "text": [
      "\n",
      "\n",
      "feature: Loan Status\n",
      "['Loan Refused', 'Loan Given']\n",
      "Categories (2, object): ['Loan Given', 'Loan Refused']\n",
      "[1 0]\n",
      "\n",
      "\n",
      "feature: Term\n",
      "['Short Term', 'Long Term']\n",
      "Categories (2, object): ['Long Term', 'Short Term']\n",
      "[1 0]\n",
      "\n",
      "\n",
      "feature: Home Ownership\n",
      "['Rent', 'Home Mortgage', 'Own Home']\n",
      "Categories (3, object): ['Home Mortgage', 'Own Home', 'Rent']\n",
      "[2 0 1]\n",
      "\n",
      "\n",
      "feature: Purpose\n",
      "['Debt Consolidation', 'Home Improvements', 'other', 'Business Loan', 'small_business', ..., 'vacation', 'major_purchase', 'Educational Expenses', 'wedding', 'renewable_energy']\n",
      "Length: 15\n",
      "Categories (15, object): ['Business Loan', 'Buy House', 'Buy a Car', 'Debt Consolidation', ..., 'renewable_energy', 'small_business', 'vacation', 'wedding']\n",
      "[ 3  5 10  0 12  9  2  6  1  7 13  8  4 14 11]\n",
      "<class 'pandas.core.frame.DataFrame'>\n",
      "RangeIndex: 88910 entries, 0 to 88909\n",
      "Data columns (total 17 columns):\n",
      " #   Column                        Non-Null Count  Dtype  \n",
      "---  ------                        --------------  -----  \n",
      " 0   Loan Status                   88910 non-null  int8   \n",
      " 1   Current Loan Amount           88910 non-null  float64\n",
      " 2   Term                          88910 non-null  int8   \n",
      " 3   Credit Score                  88910 non-null  float64\n",
      " 4   Years in current job          88910 non-null  int64  \n",
      " 5   Home Ownership                88910 non-null  int8   \n",
      " 6   Annual Income                 88910 non-null  float64\n",
      " 7   Purpose                       88910 non-null  int8   \n",
      " 8   Monthly Debt                  88910 non-null  float64\n",
      " 9   Years of Credit History       88910 non-null  float64\n",
      " 10  Months since last delinquent  88910 non-null  float64\n",
      " 11  Number of Open Accounts       88910 non-null  int64  \n",
      " 12  Number of Credit Problems     88910 non-null  int64  \n",
      " 13  Current Credit Balance        88910 non-null  float64\n",
      " 14  Maximum Open Credit           88910 non-null  float64\n",
      " 15  Bankruptcies                  88910 non-null  float64\n",
      " 16  Tax Liens                     88910 non-null  float64\n",
      "dtypes: float64(10), int64(3), int8(4)\n",
      "memory usage: 9.2 MB\n"
     ]
    }
   ],
   "source": [
    "for feature in columns_to_be_encoded:\n",
    "    if data[feature].dtype == 'object': \n",
    "        print('\\n')\n",
    "        print('feature:',feature)\n",
    "        print(pd.Categorical(data[feature].unique()))\n",
    "        print(pd.Categorical(data[feature].unique()).codes)\n",
    "        data[feature] = pd.Categorical(data[feature]).codes\n",
    "        \n",
    "data.info()"
   ]
  },
  {
   "cell_type": "code",
   "execution_count": 9,
   "id": "17783f7c",
   "metadata": {},
   "outputs": [],
   "source": [
    "data.to_csv('../output/PreProcessedData.csv', index=False)"
   ]
  }
 ],
 "metadata": {
  "kernelspec": {
   "display_name": "Python 3 (ipykernel)",
   "language": "python",
   "name": "python3"
  },
  "language_info": {
   "codemirror_mode": {
    "name": "ipython",
    "version": 3
   },
   "file_extension": ".py",
   "mimetype": "text/x-python",
   "name": "python",
   "nbconvert_exporter": "python",
   "pygments_lexer": "ipython3",
   "version": "3.10.9"
  }
 },
 "nbformat": 4,
 "nbformat_minor": 5
}
